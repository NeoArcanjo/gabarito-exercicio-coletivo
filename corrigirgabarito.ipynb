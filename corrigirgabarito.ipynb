{
  "cells": [
    {
      "metadata": {
        "collapsed": true
      },
      "cell_type": "markdown",
      "source": "<h1>Desenvolver um programa para verificar a nota do aluno em uma prova com 10 questões, <br>\no programa deve comparar a resposta de cada questão com o gabarito da prova e assim calcular<br>\no total de acertos e a nota (atribuir 1 ponto por resposta certa). </h1>\n<br>\n<h2>Após todas as notas serem calculadas, o sistema deve salvar em arquivo:</h2>\n<br>\n<h3><p>Maior e Menor Acerto;</p>\n<p>Total de aprovados;</p>\n<p>A Média das Notas da Turma.</p>\n<p>Arquivos contidos na pasta \"correcao\" >> gabarito.csv, provas.csv, notas.csv, relatorio.csv</p></h1>"
    },
    {
      "metadata": {
        "trusted": true
      },
      "cell_type": "code",
      "source": "import csv",
      "execution_count": 92,
      "outputs": []
    },
    {
      "metadata": {
        "trusted": true
      },
      "cell_type": "code",
      "source": "def importar_dados(endereco):\n    with open(endereco, \"r\") as f:\n        arquivo = csv.reader(f, delimiter=\"\\t\")\n        lista = []\n        for indice, linha in enumerate(arquivo):\n            if indice > 0:\n                lista.append(tuple(linha))\n        return tuple(lista)",
      "execution_count": 93,
      "outputs": []
    },
    {
      "metadata": {
        "trusted": true
      },
      "cell_type": "code",
      "source": "def lista_para_dicionario(lista):\n    dicio = {}\n    for l in lista:\n        dicio[l[0]] = l[1:]\n    return dicio",
      "execution_count": 94,
      "outputs": []
    },
    {
      "metadata": {
        "trusted": true
      },
      "cell_type": "code",
      "source": "def calcula_nota(dicionario, correcao):\n    #Aqui temos uma nested function, ou seja, uma função dentro de outra. Ela não pode ser usada fora da função externa\n    #mas pode utilizar as variáveis locais da função\n    def corrigir(respostas): \n        gabarito = correcao[1:]\n        cont = 0\n        for indice, valor in enumerate(respostas):\n            if valor == gabarito[indice]:\n                cont += 1\n        return cont\n    \n    notas = []\n    for chave, valor in dicionario.items():\n        nota = corrigir(valor)\n        situacao = aprovar(nota, 6)\n        notas.append({\"Matricula\": chave, \"Nota\": nota, \"Situação\": situacao})\n    return notas",
      "execution_count": 95,
      "outputs": []
    },
    {
      "metadata": {
        "trusted": true
      },
      "cell_type": "code",
      "source": "def menor(lista):\n    minimo = 10\n    saida = 0\n    for _, nota in enumerate(lista):\n        if nota[\"Nota\"] < minimo:\n            minimo = nota[\"Nota\"]\n            saida = (minimo, nota[\"Matricula\"])\n    return saida",
      "execution_count": 96,
      "outputs": []
    },
    {
      "metadata": {
        "trusted": true
      },
      "cell_type": "code",
      "source": "def maior(lista):\n    maximo = 0\n    saida = 0\n    for _, nota in enumerate(lista):\n        if nota[\"Nota\"] > maximo:\n            maximo = nota[\"Nota\"]\n            saida = (maximo, nota[\"Matricula\"])\n    return saida",
      "execution_count": 97,
      "outputs": []
    },
    {
      "metadata": {
        "trusted": true
      },
      "cell_type": "code",
      "source": "def media_notas(lista):\n    soma = 0\n    for _, nota in enumerate(lista):\n        soma += nota[\"Nota\"]\n    return round(soma/(len(lista)),3)",
      "execution_count": 111,
      "outputs": []
    },
    {
      "metadata": {
        "trusted": true
      },
      "cell_type": "code",
      "source": "def aprovar(nota, media):\n    if nota >= media:\n        return \"Aprovado\"\n    elif nota >= media*0.4:\n        return \"Recuperação\"\n    else:\n        return \"Reprovado\"",
      "execution_count": 99,
      "outputs": []
    },
    {
      "metadata": {
        "trusted": true
      },
      "cell_type": "code",
      "source": "def conte_se(origem, condicao, valor):\n    return len([x for x in origem if x[condicao] == valor])",
      "execution_count": 100,
      "outputs": []
    },
    {
      "metadata": {
        "trusted": true
      },
      "cell_type": "code",
      "source": "def salvar_informacao(local, arquivo, mode = \"w+\"):\n    with open(local, mode) as f:\n        try:\n            header = [x for x in arquivo.keys()]\n            \n        except AttributeError:\n            header = [x for x in arquivo[0].keys()]\n        finally:\n            gravar = csv.DictWriter(f, delimiter = \"\\t\", fieldnames = header)\n            gravar.writeheader()\n            try:\n                gravar.writerows(arquivo)\n            except AttributeError:\n                gravar.writerow(arquivo)",
      "execution_count": 101,
      "outputs": []
    },
    {
      "metadata": {
        "trusted": true
      },
      "cell_type": "code",
      "source": "def main():\n    gabarito = importar_dados(\"correcao/gabarito.csv\")[0]\n    lista_provas = importar_dados(\"correcao/provas.csv\")\n    dicionario_provas = lista_para_dicionario(lista_provas)\n    notas = calcula_nota(dicionario_provas, gabarito)\n\n    maior_nota, aluno_maior_nota = maior(notas)\n    menor_nota, aluno_menor_nota = menor(notas)\n    media = media_notas(notas)       #ok\n    total_aprovados = conte_se(notas, \"Situação\", \"Aprovado\")\n    total = len(notas)\n    percentagem = \" \"*25 + str(round(total_aprovados/total * 100, 2)) + \"%\"\n    \n    #maior_nota = f\"\\t{maior_nota}\"\n    #menor_nota = f\"\\t{menor_nota}\"\n    #media = f\"{media:.2f}\"\n    total_aprovados = \"       \" + str(total_aprovados)\n    total = \" \"*20 + str(total)\n    \n    info = {\"ID >\": aluno_maior_nota, \"Maior nota\": maior_nota, \n            \"ID <\": aluno_menor_nota, \"Menor nota\": menor_nota, \n            \"Média\": media, \"Aprovados\": total_aprovados, \"Total de alunos\": total, \"Taxa de Aprovação\": percentagem}\n\n\n    salvar_informacao(\"correcao/notas.csv\", notas)\n    salvar_informacao(\"correcao/notas.csv\", [{\" \": \" \"}], mode = \"a\")\n    salvar_informacao(\"correcao/notas.csv\", info, mode = \"a\")\n    salvar_informacao(\"correcao/relatorio.csv\", info)\n    print(\"Dados gerados e salvos com sucesso!!\")",
      "execution_count": 135,
      "outputs": []
    },
    {
      "metadata": {
        "trusted": true
      },
      "cell_type": "code",
      "source": "main()",
      "execution_count": 136,
      "outputs": [
        {
          "output_type": "stream",
          "text": "Dados gerados e salvos com sucesso!!\n",
          "name": "stdout"
        }
      ]
    },
    {
      "metadata": {
        "trusted": true
      },
      "cell_type": "code",
      "source": "",
      "execution_count": null,
      "outputs": []
    }
  ],
  "metadata": {
    "kernelspec": {
      "name": "python36",
      "display_name": "Python 3.6",
      "language": "python"
    },
    "language_info": {
      "mimetype": "text/x-python",
      "nbconvert_exporter": "python",
      "name": "python",
      "pygments_lexer": "ipython3",
      "version": "3.6.6",
      "file_extension": ".py",
      "codemirror_mode": {
        "version": 3,
        "name": "ipython"
      }
    }
  },
  "nbformat": 4,
  "nbformat_minor": 2
}